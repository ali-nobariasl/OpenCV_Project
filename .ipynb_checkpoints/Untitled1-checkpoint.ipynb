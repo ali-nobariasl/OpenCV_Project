{
 "cells": [
  {
   "cell_type": "code",
   "execution_count": 3,
   "id": "2369e4a3-f802-4ec2-a36c-4955a676ab92",
   "metadata": {},
   "outputs": [],
   "source": [
    "from bs4 import BeautifulSoup\n",
    "import requests\n",
    "import pandas as pd"
   ]
  },
  {
   "cell_type": "code",
   "execution_count": 4,
   "id": "74b773f7-8334-4e2c-bba0-07a5a37421ec",
   "metadata": {},
   "outputs": [],
   "source": [
    "df = pd.DataFrame()"
   ]
  },
  {
   "cell_type": "code",
   "execution_count": 7,
   "id": "a8354567-0f39-4e39-ba22-ef18d3742be9",
   "metadata": {},
   "outputs": [],
   "source": [
    "path = r'C:\\mine10\\opencv\\file_name.txt'"
   ]
  },
  {
   "cell_type": "code",
   "execution_count": 9,
   "id": "ec5d471b-e66f-4e74-8810-37ab86a70592",
   "metadata": {},
   "outputs": [
    {
     "ename": "AttributeError",
     "evalue": "module 'pandas' has no attribute 'loadtxt'",
     "output_type": "error",
     "traceback": [
      "\u001b[1;31m---------------------------------------------------------------------------\u001b[0m",
      "\u001b[1;31mAttributeError\u001b[0m                            Traceback (most recent call last)",
      "Cell \u001b[1;32mIn[9], line 1\u001b[0m\n\u001b[1;32m----> 1\u001b[0m ali \u001b[38;5;241m=\u001b[39m \u001b[43mpd\u001b[49m\u001b[38;5;241;43m.\u001b[39;49m\u001b[43mloadtxt\u001b[49m(path)\n",
      "\u001b[1;31mAttributeError\u001b[0m: module 'pandas' has no attribute 'loadtxt'"
     ]
    }
   ],
   "source": [
    "ali = pd.read_csv(path)"
   ]
  },
  {
   "cell_type": "code",
   "execution_count": null,
   "id": "a443b8dc-d9de-448e-a6c9-e761480d99ec",
   "metadata": {},
   "outputs": [],
   "source": []
  }
 ],
 "metadata": {
  "kernelspec": {
   "display_name": "Python 3 (ipykernel)",
   "language": "python",
   "name": "python3"
  },
  "language_info": {
   "codemirror_mode": {
    "name": "ipython",
    "version": 3
   },
   "file_extension": ".py",
   "mimetype": "text/x-python",
   "name": "python",
   "nbconvert_exporter": "python",
   "pygments_lexer": "ipython3",
   "version": "3.10.8"
  }
 },
 "nbformat": 4,
 "nbformat_minor": 5
}
